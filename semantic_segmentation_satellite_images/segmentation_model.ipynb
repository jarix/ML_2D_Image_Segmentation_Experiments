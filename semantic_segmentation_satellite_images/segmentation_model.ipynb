{
 "cells": [
  {
   "cell_type": "markdown",
   "id": "de89b28d",
   "metadata": {},
   "source": [
    "# Segmentation Model"
   ]
  },
  {
   "cell_type": "code",
   "execution_count": 2,
   "id": "a373478f",
   "metadata": {},
   "outputs": [],
   "source": [
    "# Prerequisites\n",
    "import numpy as np\n",
    "import seaborn as sns\n",
    "import matplotlib.pyplot as plt\n",
    "import torch\n",
    "import torch.nn as nn\n",
    "from torch.utils.data import DataLoader\n",
    "from segmentation_dataset import SegmentationDataset\n",
    "import segmentation_models_pytorch as smp \n",
    "\n"
   ]
  },
  {
   "cell_type": "markdown",
   "id": "f111198a",
   "metadata": {},
   "source": [
    "### Check Running Environment"
   ]
  },
  {
   "cell_type": "code",
   "execution_count": 3,
   "id": "e086b188",
   "metadata": {},
   "outputs": [
    {
     "name": "stdout",
     "output_type": "stream",
     "text": [
      "Running in Colab: False\n",
      "Using  cuda\n"
     ]
    }
   ],
   "source": [
    "# Check if notebook being run in Colab or locally  \n",
    "try:\n",
    "    import google.colab\n",
    "    IN_COLAB = True\n",
    "except ImportError:\n",
    "    IN_COLAB = False\n",
    "print (f'Running in Colab: {IN_COLAB}')\n",
    "\n",
    "# Check if GPU is available\n",
    "DEVICE = \"cuda\" if torch.cuda.is_available() else \"cpu\"\n",
    "print(\"Using \", DEVICE)"
   ]
  },
  {
   "cell_type": "markdown",
   "id": "8c9606c2",
   "metadata": {},
   "source": [
    "### Set Hyperparameters"
   ]
  },
  {
   "cell_type": "code",
   "execution_count": 4,
   "id": "423d18d8",
   "metadata": {},
   "outputs": [],
   "source": [
    "NR_EPOCHS = 50\n",
    "BATCH_SIZE = 4"
   ]
  },
  {
   "cell_type": "markdown",
   "id": "f76ce226",
   "metadata": {},
   "source": [
    "### Set 'train' and 'val' Datasets & Dataloaders"
   ]
  },
  {
   "cell_type": "code",
   "execution_count": 5,
   "id": "78cf0bb6",
   "metadata": {},
   "outputs": [],
   "source": [
    "if IN_COLAB:\n",
    "    pass\n",
    "else:\n",
    "    train_data_path = \"data/processed/train\"\n",
    "    val_data_path = \"data/processed/val\"\n",
    "    test_data_path = \"data/processed/test\"\n",
    "\n",
    "\n",
    "train_dataset = SegmentationDataset(path_name=train_data_path)\n",
    "train_dataloader = DataLoader(train_dataset, batch_size=BATCH_SIZE, shuffle=True)\n",
    "val_dataset = SegmentationDataset(path_name=val_data_path)\n",
    "val_dataloader = DataLoader(val_dataset, batch_size=BATCH_SIZE, shuffle=True)"
   ]
  },
  {
   "cell_type": "markdown",
   "id": "70089986",
   "metadata": {},
   "source": [
    "### Define Model"
   ]
  },
  {
   "cell_type": "code",
   "execution_count": 6,
   "id": "3b744f82",
   "metadata": {},
   "outputs": [],
   "source": [
    "model = smp.FPN( #  Feature Pyramid Network\n",
    "    encoder_name = \"se_resnext50_32x4d\", # Encoder - ResNeXt-50\n",
    "    encoder_weights=\"imagenet\", # Pretrained weights for encoder\n",
    "    classes=6, # Number of output classes\n",
    "    activation=\"sigmoid\" #\n",
    ") \n",
    "\n",
    "model.to(DEVICE)   # Move model to GPU if available\n",
    "\n",
    "optimizer = torch.optim.Adam(model.parameters(), lr=0.0001) # Adam optimizer\n",
    "\n",
    "criterion = nn.CrossEntropyLoss() # Cross-entropy loss\n",
    "# criterion = smp.losses.DiceLoss(mode='multiclass') # Dice loss"
   ]
  },
  {
   "cell_type": "markdown",
   "id": "d6a6c3ff",
   "metadata": {},
   "source": [
    "### Training Loop"
   ]
  },
  {
   "cell_type": "code",
   "execution_count": 7,
   "id": "f504ae4a",
   "metadata": {},
   "outputs": [
    {
     "name": "stdout",
     "output_type": "stream",
     "text": [
      "Epoch: 0: Train Loss: 214.46812903881073, Val Loss: 10.76847529411316\n",
      "Epoch: 1: Train Loss: 194.35522317886353, Val Loss: 10.667044043540955\n",
      "Epoch: 2: Train Loss: 188.64822936058044, Val Loss: 10.707909226417542\n",
      "Epoch: 3: Train Loss: 185.11022865772247, Val Loss: 10.671605944633484\n",
      "Epoch: 4: Train Loss: 183.44579899311066, Val Loss: 10.64606761932373\n",
      "Epoch: 5: Train Loss: 182.3572587966919, Val Loss: 10.604496359825134\n",
      "Epoch: 6: Train Loss: 182.17431473731995, Val Loss: 11.186429619789124\n",
      "Epoch: 7: Train Loss: 181.29984366893768, Val Loss: 10.574872136116028\n",
      "Epoch: 8: Train Loss: 179.94841587543488, Val Loss: 10.55919361114502\n",
      "Epoch: 9: Train Loss: 179.0969077348709, Val Loss: 10.558289289474487\n",
      "Epoch: 10: Train Loss: 178.6828899383545, Val Loss: 10.54019844532013\n",
      "Epoch: 11: Train Loss: 178.28325879573822, Val Loss: 10.573320031166077\n",
      "Epoch: 12: Train Loss: 177.8848956823349, Val Loss: 10.596218228340149\n",
      "Epoch: 13: Train Loss: 177.5734270811081, Val Loss: 10.526920437812805\n",
      "Epoch: 14: Train Loss: 177.125439286232, Val Loss: 10.568710684776306\n",
      "Epoch: 15: Train Loss: 176.68058347702026, Val Loss: 10.541337013244629\n",
      "Epoch: 16: Train Loss: 176.49854910373688, Val Loss: 10.55757200717926\n",
      "Epoch: 17: Train Loss: 176.25732910633087, Val Loss: 10.599392294883728\n",
      "Epoch: 18: Train Loss: 176.22355735301971, Val Loss: 10.538384318351746\n",
      "Epoch: 19: Train Loss: 175.92045652866364, Val Loss: 10.558108448982239\n",
      "Epoch: 20: Train Loss: 175.84118509292603, Val Loss: 10.566846370697021\n",
      "Epoch: 21: Train Loss: 175.50682413578033, Val Loss: 10.572070479393005\n",
      "Epoch: 22: Train Loss: 175.32573449611664, Val Loss: 10.585182070732117\n",
      "Epoch: 23: Train Loss: 175.0369359254837, Val Loss: 10.60775089263916\n",
      "Epoch: 24: Train Loss: 174.9463107585907, Val Loss: 10.588789820671082\n",
      "Epoch: 25: Train Loss: 174.73448395729065, Val Loss: 10.569908380508423\n",
      "Epoch: 26: Train Loss: 174.61335134506226, Val Loss: 10.579475045204163\n",
      "Epoch: 27: Train Loss: 174.4608849287033, Val Loss: 10.538652062416077\n",
      "Epoch: 28: Train Loss: 174.29728662967682, Val Loss: 10.568790435791016\n",
      "Epoch: 29: Train Loss: 174.16886568069458, Val Loss: 10.58206844329834\n",
      "Epoch: 30: Train Loss: 174.33050119876862, Val Loss: 11.954474687576294\n",
      "Epoch: 31: Train Loss: 176.2850297689438, Val Loss: 10.580178499221802\n",
      "Epoch: 32: Train Loss: 174.79817187786102, Val Loss: 10.567930698394775\n",
      "Epoch: 33: Train Loss: 174.51490473747253, Val Loss: 10.69017505645752\n",
      "Epoch: 34: Train Loss: 174.15871942043304, Val Loss: 10.564797163009644\n",
      "Epoch: 35: Train Loss: 173.89442706108093, Val Loss: 10.532760381698608\n",
      "Epoch: 36: Train Loss: 174.2298765182495, Val Loss: 10.680784583091736\n",
      "Epoch: 37: Train Loss: 173.69874155521393, Val Loss: 10.581760048866272\n",
      "Epoch: 38: Train Loss: 173.54457879066467, Val Loss: 10.573819398880005\n",
      "Epoch: 39: Train Loss: 173.37331414222717, Val Loss: 10.568372130393982\n",
      "Epoch: 40: Train Loss: 173.1985101699829, Val Loss: 10.55471384525299\n",
      "Epoch: 41: Train Loss: 173.200279712677, Val Loss: 10.551446199417114\n",
      "Epoch: 42: Train Loss: 173.17152273654938, Val Loss: 10.57629930973053\n",
      "Epoch: 43: Train Loss: 173.05883610248566, Val Loss: 10.588441252708435\n",
      "Epoch: 44: Train Loss: 173.05463004112244, Val Loss: 10.55813479423523\n",
      "Epoch: 45: Train Loss: 172.96079099178314, Val Loss: 10.569336771965027\n",
      "Epoch: 46: Train Loss: 172.85781133174896, Val Loss: 10.570056796073914\n",
      "Epoch: 47: Train Loss: 172.7856353521347, Val Loss: 10.576913475990295\n",
      "Epoch: 48: Train Loss: 172.7167466878891, Val Loss: 10.573757290840149\n",
      "Epoch: 49: Train Loss: 172.72178375720978, Val Loss: 10.607529759407043\n"
     ]
    }
   ],
   "source": [
    "train_losses = []\n",
    "val_losses = []\n",
    "\n",
    "for epoch in range(NR_EPOCHS):\n",
    "\n",
    "    # Training Phase\n",
    "    model.train()\n",
    "    running_train_loss = 0\n",
    "    running_val_loss = 0\n",
    "\n",
    "    for i, data in enumerate(train_dataloader):\n",
    "        image_i, mask_i = data\n",
    "        image = image_i.to(DEVICE)\n",
    "        mask = mask_i.to(DEVICE)\n",
    "\n",
    "        # Reset gradients\n",
    "        optimizer.zero_grad()\n",
    "\n",
    "        # Forward Pass\n",
    "        output = model(image.float())\n",
    "\n",
    "        # Calculate losses\n",
    "        train_loss = criterion(output.float(), mask.long())\n",
    "\n",
    "        # Back propagation\n",
    "        train_loss.backward()\n",
    "        optimizer.step()  # Update weights\n",
    "\n",
    "        running_train_loss += train_loss.item()\n",
    "\n",
    "    train_losses.append(running_train_loss)\n",
    "\n",
    "    # Validation Phase\n",
    "    model.eval()\n",
    "    for i, data in enumerate(val_dataloader):\n",
    "        image_i, mask_i = data\n",
    "        image = image_i.to(DEVICE)\n",
    "        mask = mask_i.to(DEVICE)\n",
    "\n",
    "        # Forward Pass\n",
    "        output = model(image.float())\n",
    "\n",
    "        # Calculate losses\n",
    "        val_loss = criterion(output.float(), mask.long())\n",
    "        running_val_loss += val_loss.item()\n",
    "\n",
    "    val_losses.append(running_val_loss)\n",
    "\n",
    "    print(f\"Epoch: {epoch}: Train Loss: {np.median(running_train_loss)}, Val Loss: {np.median(running_val_loss)}\")\n"
   ]
  },
  {
   "cell_type": "markdown",
   "id": "6e589a56",
   "metadata": {},
   "source": [
    "### Visualize"
   ]
  },
  {
   "cell_type": "code",
   "execution_count": 8,
   "id": "fea95c83",
   "metadata": {},
   "outputs": [
    {
     "data": {
      "image/png": "[encoded data removed]",
      "text/plain": [
       "<Figure size 640x480 with 1 Axes>"
      ]
     },
     "metadata": {},
     "output_type": "display_data"
    },
    {
     "data": {
      "image/png": "[encoded data removed]",
      "text/plain": [
       "<Figure size 640x480 with 1 Axes>"
      ]
     },
     "metadata": {},
     "output_type": "display_data"
    }
   ],
   "source": [
    "sns.lineplot(x = range(len(train_losses)), y= train_losses).set(title='Train Loss')\n",
    "plt.show()\n",
    "sns.lineplot(x = range(len(train_losses)), y= val_losses).set(title='Validation Loss')\n",
    "plt.show()"
   ]
  },
  {
   "cell_type": "markdown",
   "id": "eb50f16b",
   "metadata": {},
   "source": [
    "### Save Model"
   ]
  },
  {
   "cell_type": "code",
   "execution_count": 9,
   "id": "28d48c8a",
   "metadata": {},
   "outputs": [],
   "source": [
    "torch.save(model.state_dict(), f'models/FPN_epochs_{NR_EPOCHS}_crossentropy_state_dict.pth')"
   ]
  }
 ],
 "metadata": {
  "kernelspec": {
   "display_name": ".venv",
   "language": "python",
   "name": "python3"
  },
  "language_info": {
   "codemirror_mode": {
    "name": "ipython",
    "version": 3
   },
   "file_extension": ".py",
   "mimetype": "text/x-python",
   "name": "python",
   "nbconvert_exporter": "python",
   "pygments_lexer": "ipython3",
   "version": "3.12.7"
  }
 },
 "nbformat": 4,
 "nbformat_minor": 5
}
